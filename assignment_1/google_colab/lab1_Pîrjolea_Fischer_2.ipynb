{
  "cells": [
    {
      "cell_type": "markdown",
      "metadata": {
        "id": "wORfnENaVBOo"
      },
      "source": [
        "# <p style=\"text-align:center\"> <span style=\"color:blue\">[WBCS059-05] Introduction to Deep Neural Networks 2025-2026 </span></p>\n",
        "\n",
        "## <p style=\"text-align:center\"> Practical 1: Convolutional neural networks for image classification</p>"
      ]
    },
    {
      "cell_type": "markdown",
      "metadata": {
        "id": "M2Lu1u16oAqk"
      },
      "source": [
        "In this exercise, you will get hands-on experience in Convolutional Neural Networks\n",
        "(CNNs), e.g., the VGGNet, using PyTorch.\n",
        "\n",
        "On Brightspace, you will find the file VGG_cifar10_lab1.zip, which contains\n",
        "the PyTorch implementation of VGGNet. The code is partly taken from a Github\n",
        "[repository](https://github.com/kuangliu/pytorch-cifar). If you are interested in the full version with more examples of other CNN\n",
        "architectures, please check the repository.\n",
        "\n",
        "Since Habrok is down for maintenance, you are also recommended to use Google Colab to set up your experimental environment. Colab is a free online platform to enable writing and executing arbitrary python code through the browser. It is a hosted Jupyter Notebook service that requires no setup to use while providing free access to computing resources including GPUs. For detailed information, please have a look [here](https://colab.research.google.com/).\n"
      ]
    },
    {
      "cell_type": "markdown",
      "metadata": {
        "id": "5BzFFvW0P4ra"
      },
      "source": [
        "# <span style=\"color:blue\">Exercise 1 - Get a running VGGNet for CIFAR-10 image classfication (3pt)  <a class=\"anchor\" id=\"chapter1\"></a></span>\n"
      ]
    },
    {
      "cell_type": "markdown",
      "metadata": {
        "id": "g6CS3AbMJr9k"
      },
      "source": [
        "**Step 1:** Upload the file *[Surname1]\\_[Surname2]\\_[GroupNumber].ipynb* to your google drive and then open it through colab."
      ]
    },
    {
      "cell_type": "markdown",
      "metadata": {
        "id": "Kj18VOESKHXg"
      },
      "source": [
        "**Step 2:** On Brightspace, you will find the PyTorch implementation of VGGNet. Unzip the file and upload the folder to your google drive."
      ]
    },
    {
      "cell_type": "markdown",
      "metadata": {
        "id": "s87D7Km5Ka8e"
      },
      "source": [
        "**Step 3:** Mount your Google Drive to the colab notebook through the code snippet below."
      ]
    },
    {
      "cell_type": "code",
      "execution_count": null,
      "metadata": {
        "id": "UX6fFoHGKs8f"
      },
      "outputs": [],
      "source": [
        "from google.colab import drive\n",
        "import os\n",
        "\n",
        "drive.mount('/content/gdrive')\n",
        "root_path = '/content/gdrive/MyDrive/your_project_folder/'  # Change dir to your project folder"
      ]
    },
    {
      "cell_type": "markdown",
      "metadata": {
        "id": "YNQ8x5APoAqm"
      },
      "source": [
        "Step 4: Execute the code! Before running it, make sure to set **Runtime > change Runtime type to 'GPU'**. For instance, you can use T4 GPU. Otherwise it may take forever to run the code."
      ]
    },
    {
      "cell_type": "code",
      "source": [
        "# Run the main function\n",
        "script_path = os.path.join(root_path, 'VGG_cifar10_lab1', 'main.py')\n",
        "!python \"$script_path\""
      ],
      "metadata": {
        "id": "lZUD0UHvoaGS"
      },
      "execution_count": null,
      "outputs": []
    }
  ],
  "metadata": {
    "accelerator": "GPU",
    "colab": {
      "provenance": []
    },
    "kernelspec": {
      "display_name": "Python 3 (ipykernel)",
      "language": "python",
      "name": "python3"
    },
    "language_info": {
      "codemirror_mode": {
        "name": "ipython",
        "version": 3
      },
      "file_extension": ".py",
      "mimetype": "text/x-python",
      "name": "python",
      "nbconvert_exporter": "python",
      "pygments_lexer": "ipython3",
      "version": "3.8.11"
    }
  },
  "nbformat": 4,
  "nbformat_minor": 0
}